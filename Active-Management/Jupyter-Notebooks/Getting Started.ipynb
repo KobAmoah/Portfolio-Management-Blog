{
 "cells": [
  {
   "cell_type": "markdown",
   "id": "0da1024a",
   "metadata": {},
   "source": [
    "### Downloading Python"
   ]
  },
  {
   "cell_type": "markdown",
   "id": "8501de17",
   "metadata": {},
   "source": [
    "Strictly speaking, there are at least 5 implementations of the Python language:\n",
    "- Cpython \n",
    "- Jython\n",
    "- IronPython\n",
    "- Stackless \n",
    "- Pypy\n",
    "\n",
    "Each operates as a separately installed software system, with its own developers and user base. The standard implementation is Cpython (Python/C mix) and it's what I will be using for this blog. Unless you have compelling reasons to use different systems like say you want to have the ability to script Java or work at a company with restrictions on python systems, you probably want to use the Cpython system. I find it to be the most complete, up-to-date and roubst python implementation. \n",
    "\n",
    "Fetch Python from the following link if it is not preinstalled on your computer.\n",
    "<a href=\"https://www.python.org/downloads/\">Download Python</a>"
   ]
  },
  {
   "cell_type": "markdown",
   "id": "ef4f89d5",
   "metadata": {},
   "source": [
    "### Managing Dependencies - Using Conda"
   ]
  },
  {
   "cell_type": "markdown",
   "id": "dd3e975c",
   "metadata": {},
   "source": [
    "It is often the case Python is called a \"batteries included\" language due to its emphasis on prebuilt tools. This prebuilt approach makes it important to track dependencies(tracking if a battery is changed, broken or deprecated). To track these dependencies, my personal preference is to use package manager to help installing, updating and removing Python packages. My go-to is **conda**.\n"
   ]
  },
  {
   "cell_type": "markdown",
   "id": "d38c1f1d",
   "metadata": {},
   "source": [
    "#### Downloading Conda"
   ]
  },
  {
   "cell_type": "markdown",
   "id": "23e08b69",
   "metadata": {},
   "source": [
    "For those who have not installed conda, you can do efficiently via miniconda. To install miniconda however, I recommend using Homebrew - a software package management system for macOS - which could be forked from its github repo.\n",
    "The following code typed in the terminal should work for a macOS with minor modifications for Windows and Linux-based systems"
   ]
  },
  {
   "cell_type": "code",
   "execution_count": null,
   "id": "ee7a062d",
   "metadata": {},
   "outputs": [],
   "source": [
    "# install brew\n",
    "/bin/bash -c \"$(curl -fsSL https://raw.githubusercontent.com/Homebrew/install/HEAD/install.sh)\"\n",
    "#  install wget to get miniconda\n",
    "brew install wget\n",
    "\n",
    "# get miniconda\n",
    "wget https://repo.anaconda.com/miniconda/Miniconda3-latest-MacOSX-x86_64.sh -O ~/miniconda.sh\n",
    "bash ~/miniconda.sh -b -p $HOME/miniconda\n",
    "\n",
    "# source /Users/my_username/opt/anaconda3/bin/activate\n",
    "source ~/miniconda/bin/activate\n",
    "conda init zsh\n",
    "conda update -n base -c defaults conda\n",
    "conda install conda-build\n",
    "\n"
   ]
  },
  {
   "cell_type": "markdown",
   "id": "fdfc31bf",
   "metadata": {},
   "source": [
    "The above instructions were inspired by this  <a href=\"https://stackoverflow.com/questions/49118277/what-is-the-best-way-to-install-conda-on-macos-apple-mac\">StackOverflow post</a>"
   ]
  },
  {
   "cell_type": "markdown",
   "id": "ec3d1161",
   "metadata": {},
   "source": [
    "### Setting Up the environment  - Using Conda"
   ]
  },
  {
   "cell_type": "markdown",
   "id": "0c8b612a",
   "metadata": {},
   "source": [
    "To create a separate(virtual) environment with the needed packages/libraries for the project, run the following code in the terminal. Notice this creates and activates a virtual emvironment from the YAML file provided"
   ]
  },
  {
   "cell_type": "code",
   "execution_count": null,
   "id": "eb082617",
   "metadata": {},
   "outputs": [],
   "source": [
    "conda env create -f env.yml\n",
    "conda activate Data_Download"
   ]
  },
  {
   "cell_type": "markdown",
   "id": "c716bb85",
   "metadata": {},
   "source": [
    "### Donwloading Jupyter"
   ]
  },
  {
   "cell_type": "markdown",
   "id": "e74b9cfd",
   "metadata": {},
   "source": [
    "While not strictly necessary, it would be easier to follow along using Jupyter (a data exploration tool used in many cloud environments).\n",
    "\n",
    "To combine interactive coding and text in a web browser, jupyter notebook would be the preferred environment and can be installed and launched using the following code"
   ]
  },
  {
   "cell_type": "code",
   "execution_count": null,
   "id": "c22c9ed2",
   "metadata": {},
   "outputs": [],
   "source": [
    "conda install jupyter-notebook\n",
    "\n",
    "jupyter-notebook"
   ]
  }
 ],
 "metadata": {
  "kernelspec": {
   "display_name": "Python 3 (ipykernel)",
   "language": "python",
   "name": "python3"
  },
  "language_info": {
   "codemirror_mode": {
    "name": "ipython",
    "version": 3
   },
   "file_extension": ".py",
   "mimetype": "text/x-python",
   "name": "python",
   "nbconvert_exporter": "python",
   "pygments_lexer": "ipython3",
   "version": "3.9.12"
  }
 },
 "nbformat": 4,
 "nbformat_minor": 5
}
